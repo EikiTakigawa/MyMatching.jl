{
 "cells": [
  {
   "cell_type": "markdown",
   "metadata": {},
   "source": [
    "# 課題5：Boston mechanism と DAアルゴリズムの比較  \n",
    "## 瀧川英輝"
   ]
  },
  {
   "cell_type": "markdown",
   "metadata": {},
   "source": [
    "Boston mechansim は過去にボストンのパブリックスクールの入試の際に活用されていたアルゴリズムで、その中身は以下のようなものになります。  \n",
    "  \n",
    "DAアルゴリズムと同様に、学生側の選好、学校側の選好、学校の定員を入力したうえで、  \n",
    "ステップ１：ステップ1では学生の選好のうち、1番高いもののみが考慮される。学校側はそれらの申し込みを選好の高い順に、定員を超えないように合格とする。この時点でマッチしたペアはマッチ確定。\n",
    "\n",
    "ステップk：ステップkでは学生の選好のうち、k番目に高いもののみ考慮される。学校側はこれまでに合格とした生徒が定員に達していなければ、自らをk番目に希望した生徒を選好に応じて、定員がオーバーしないようにとる  \n",
    "    \n",
    "このステップを全ての生徒が学校とマッチするまで、もしくは学校とマッチしていない生徒の選好リストの校数の最大値が反復回数となるまで続けます"
   ]
  },
  {
   "cell_type": "code",
   "execution_count": 1,
   "metadata": {
    "collapsed": true
   },
   "outputs": [],
   "source": [
    "using MyMatching"
   ]
  },
  {
   "cell_type": "markdown",
   "metadata": {},
   "source": [
    "[ソースコードはこちら](https://github.com/EikiTakigawa/MyMatching.jl/blob/master/src/MyMatching.jl)  \n",
    "医師臨床研修マッチング協議会の例で比較してみます"
   ]
  },
  {
   "cell_type": "code",
   "execution_count": 2,
   "metadata": {
    "collapsed": true
   },
   "outputs": [],
   "source": [
    "prop_prefs = [[2], [2, 1], [2, 1], [1, 2, 3, 4], [2, 1, 4, 3], [2, 3, 1, 4], [2, 1, 4, 3], [4, 2, 1, 3]]\n",
    "resp_prefs = [[3, 7], [7, 8, 5, 1, 2, 3, 4, 6], [2, 5, 8, 1, 3, 4, 7], [2, 5, 1, 3, 6, 4, 7]]\n",
    "caps = [2, 2, 2, 2];"
   ]
  },
  {
   "cell_type": "code",
   "execution_count": 3,
   "metadata": {},
   "outputs": [
    {
     "data": {
      "text/plain": [
       "([0, 0, 1, 3, 4, 4, 2, 2], [3, 0, 7, 8, 4, 0, 5, 6], [1, 3, 5, 7, 9])"
      ]
     },
     "execution_count": 3,
     "metadata": {},
     "output_type": "execute_result"
    }
   ],
   "source": [
    "my_deferred_acceptance(prop_prefs, resp_prefs, caps)"
   ]
  },
  {
   "cell_type": "code",
   "execution_count": 6,
   "metadata": {},
   "outputs": [
    {
     "data": {
      "text/plain": [
       "([0, 0, 1, 3, 2, 4, 2, 3], [3, 0, 7, 5, 4, 8, 6, 0], [1, 3, 5, 7, 9])"
      ]
     },
     "execution_count": 6,
     "metadata": {},
     "output_type": "execute_result"
    }
   ],
   "source": [
    "my_Boston_school_match(prop_prefs, resp_prefs, caps)"
   ]
  },
  {
   "cell_type": "markdown",
   "metadata": {},
   "source": [
    "Boston mechanism の結果では、学校2は生徒5とマッチするのではなく生徒8とマッチしたほうが、学校2も生徒8もより効用が高くなります  \n",
    "したがって、Boston mechanism はDAアルゴリズムとは異なり、必ずしも stable なマッチング結果をもたらしません"
   ]
  },
  {
   "cell_type": "markdown",
   "metadata": {},
   "source": [
    "Boston mechanism では、選好の順番が重要な役割を果たします。したがって、嘘の選好を提出することで得をすることができます  \n",
    "嘘の選好を提出することで、どれだけ得になるか、DAアルゴリズムと比較しながら、調べていきます"
   ]
  },
  {
   "cell_type": "markdown",
   "metadata": {},
   "source": [
    "### 設定\n",
    "* 学校は３校で、各校の定員は３０人\n",
    "* 生徒は９０人\n",
    "* どの生徒も、学校１，２，３の順に選好する\n",
    "* 学校側は共通の指標で、その指標が高い順に生徒を選ぶ"
   ]
  },
  {
   "cell_type": "markdown",
   "metadata": {},
   "source": [
    "まず全ての学生が真の選好を表明したときに、どうなるかやってみます"
   ]
  },
  {
   "cell_type": "code",
   "execution_count": 40,
   "metadata": {},
   "outputs": [
    {
     "data": {
      "text/plain": [
       "3-element Array{Int64,1}:\n",
       " 30\n",
       " 30\n",
       " 30"
      ]
     },
     "execution_count": 40,
     "metadata": {},
     "output_type": "execute_result"
    }
   ],
   "source": [
    "real_prop_prefs = fill([1, 2, 3], 90);\n",
    "prop_points = sort!(randn(90), rev = true);\n",
    "resp_prefs = fill(collect(1:90), 3)\n",
    "caps = [30, 30, 30]"
   ]
  },
  {
   "cell_type": "code",
   "execution_count": 19,
   "metadata": {},
   "outputs": [
    {
     "data": {
      "text/plain": [
       "([1, 1, 1, 1, 1, 1, 1, 1, 1, 1  …  3, 3, 3, 3, 3, 3, 3, 3, 3, 3], [1, 2, 3, 4, 5, 6, 7, 8, 9, 10  …  81, 82, 83, 84, 85, 86, 87, 88, 89, 90], [1, 31, 61, 91])"
      ]
     },
     "execution_count": 19,
     "metadata": {},
     "output_type": "execute_result"
    }
   ],
   "source": [
    "a, b, c = my_deferred_acceptance(real_prop_prefs, resp_prefs, caps)"
   ]
  },
  {
   "cell_type": "code",
   "execution_count": 21,
   "metadata": {},
   "outputs": [
    {
     "data": {
      "text/plain": [
       "([1, 1, 1, 1, 1, 1, 1, 1, 1, 1  …  3, 3, 3, 3, 3, 3, 3, 3, 3, 3], [1, 2, 3, 4, 5, 6, 7, 8, 9, 10  …  81, 82, 83, 84, 85, 86, 87, 88, 89, 90], [1, 31, 61, 91])"
      ]
     },
     "execution_count": 21,
     "metadata": {},
     "output_type": "execute_result"
    }
   ],
   "source": [
    "x, y, z = my_Boston_school_match(real_prop_prefs, resp_prefs, caps)"
   ]
  },
  {
   "cell_type": "code",
   "execution_count": 22,
   "metadata": {},
   "outputs": [
    {
     "data": {
      "text/plain": [
       "true"
      ]
     },
     "execution_count": 22,
     "metadata": {},
     "output_type": "execute_result"
    }
   ],
   "source": [
    "b == collect(1:90)"
   ]
  },
  {
   "cell_type": "code",
   "execution_count": 23,
   "metadata": {},
   "outputs": [
    {
     "data": {
      "text/plain": [
       "true"
      ]
     },
     "execution_count": 23,
     "metadata": {},
     "output_type": "execute_result"
    }
   ],
   "source": [
    "b == y"
   ]
  },
  {
   "cell_type": "markdown",
   "metadata": {},
   "source": [
    "この場合どちらのマッチング方法でも、点数の高い生徒から順にマッチングしていきます"
   ]
  },
  {
   "cell_type": "markdown",
   "metadata": {},
   "source": [
    "それでは今度は、点数が平均点を下回っている生徒が正直に選好を表明せず、`[2, 3, 1]` という選考を表明するとします"
   ]
  },
  {
   "cell_type": "code",
   "execution_count": 41,
   "metadata": {},
   "outputs": [
    {
     "data": {
      "text/plain": [
       "46"
      ]
     },
     "execution_count": 41,
     "metadata": {},
     "output_type": "execute_result"
    }
   ],
   "source": [
    "is_higher = prop_points .> mean(prop_points)\n",
    "findfirst(is_higher, false)"
   ]
  },
  {
   "cell_type": "markdown",
   "metadata": {},
   "source": [
    "今回の例だと学生45までは `[1, 2, 3]` という提出し、学生46以降は `[2, 1, 3]` と提出するとします"
   ]
  },
  {
   "cell_type": "code",
   "execution_count": 53,
   "metadata": {},
   "outputs": [],
   "source": [
    "fake_prop_prefs = Array{Array{Int, 1}}(90)\n",
    "for i in 1:45\n",
    "    fake_prop_prefs[i] = [1, 2, 3]\n",
    "end\n",
    "for i in 46:90\n",
    "    fake_prop_prefs[i] = [2, 3, 1]\n",
    "end"
   ]
  },
  {
   "cell_type": "code",
   "execution_count": 55,
   "metadata": {},
   "outputs": [
    {
     "data": {
      "text/plain": [
       "([1, 1, 1, 1, 1, 1, 1, 1, 1, 1  …  3, 3, 3, 3, 3, 3, 3, 3, 3, 3], [1, 2, 3, 4, 5, 6, 7, 8, 9, 10  …  81, 82, 83, 84, 85, 86, 87, 88, 89, 90], [1, 31, 61, 91])"
      ]
     },
     "execution_count": 55,
     "metadata": {},
     "output_type": "execute_result"
    }
   ],
   "source": [
    "a1, b1, c1 = my_deferred_acceptance(fake_prop_prefs, resp_prefs, caps)"
   ]
  },
  {
   "cell_type": "code",
   "execution_count": 56,
   "metadata": {},
   "outputs": [
    {
     "data": {
      "text/plain": [
       "true"
      ]
     },
     "execution_count": 56,
     "metadata": {},
     "output_type": "execute_result"
    }
   ],
   "source": [
    "b1 == b"
   ]
  },
  {
   "cell_type": "markdown",
   "metadata": {},
   "source": [
    "この例においては、DAアルゴリズムを用いる場合、マッチングの結果は変化しません"
   ]
  },
  {
   "cell_type": "code",
   "execution_count": 58,
   "metadata": {},
   "outputs": [
    {
     "data": {
      "text/plain": [
       "([1, 1, 1, 1, 1, 1, 1, 1, 1, 1  …  3, 3, 3, 3, 3, 3, 3, 3, 3, 3], [1, 2, 3, 4, 5, 6, 7, 8, 9, 10  …  36, 37, 38, 39, 40, 41, 42, 43, 44, 45], [1, 31, 61, 91])"
      ]
     },
     "execution_count": 58,
     "metadata": {},
     "output_type": "execute_result"
    }
   ],
   "source": [
    "x1, y1, z1 = my_Boston_school_match(fake_prop_prefs, resp_prefs, caps)"
   ]
  },
  {
   "cell_type": "code",
   "execution_count": 59,
   "metadata": {},
   "outputs": [
    {
     "data": {
      "text/plain": [
       "false"
      ]
     },
     "execution_count": 59,
     "metadata": {},
     "output_type": "execute_result"
    }
   ],
   "source": [
    "y1 == y"
   ]
  },
  {
   "cell_type": "markdown",
   "metadata": {},
   "source": [
    "Boston mechanism では結果に変化がありました  \n",
    "嘘の選好を表明することで、得をした人がどれだけいるか確認します"
   ]
  },
  {
   "cell_type": "code",
   "execution_count": 65,
   "metadata": {},
   "outputs": [
    {
     "data": {
      "text/plain": [
       "15"
      ]
     },
     "execution_count": 65,
     "metadata": {},
     "output_type": "execute_result"
    }
   ],
   "source": [
    "sum(x[46:90] .== 2) "
   ]
  },
  {
   "cell_type": "code",
   "execution_count": 67,
   "metadata": {},
   "outputs": [
    {
     "data": {
      "text/plain": [
       "30"
      ]
     },
     "execution_count": 67,
     "metadata": {},
     "output_type": "execute_result"
    }
   ],
   "source": [
    "sum(x[46:90] .== 3) "
   ]
  },
  {
   "cell_type": "code",
   "execution_count": 66,
   "metadata": {},
   "outputs": [
    {
     "data": {
      "text/plain": [
       "30"
      ]
     },
     "execution_count": 66,
     "metadata": {},
     "output_type": "execute_result"
    }
   ],
   "source": [
    "sum(x1[46:90] .== 2) "
   ]
  },
  {
   "cell_type": "code",
   "execution_count": 68,
   "metadata": {},
   "outputs": [
    {
     "data": {
      "text/plain": [
       "15"
      ]
     },
     "execution_count": 68,
     "metadata": {},
     "output_type": "execute_result"
    }
   ],
   "source": [
    "sum(x1[46:90] .== 3) "
   ]
  },
  {
   "cell_type": "markdown",
   "metadata": {},
   "source": [
    "以上から嘘の選好を表明することで、得をした人が15人いることがわかります  \n",
    "正直に選好を表明した人がどうなったかも確認します"
   ]
  },
  {
   "cell_type": "code",
   "execution_count": 69,
   "metadata": {},
   "outputs": [
    {
     "data": {
      "text/plain": [
       "30"
      ]
     },
     "execution_count": 69,
     "metadata": {},
     "output_type": "execute_result"
    }
   ],
   "source": [
    "sum(x[1:45] .== 1) "
   ]
  },
  {
   "cell_type": "code",
   "execution_count": 70,
   "metadata": {},
   "outputs": [
    {
     "data": {
      "text/plain": [
       "15"
      ]
     },
     "execution_count": 70,
     "metadata": {},
     "output_type": "execute_result"
    }
   ],
   "source": [
    "sum(x[1:45] .== 2)"
   ]
  },
  {
   "cell_type": "code",
   "execution_count": 71,
   "metadata": {},
   "outputs": [
    {
     "data": {
      "text/plain": [
       "30"
      ]
     },
     "execution_count": 71,
     "metadata": {},
     "output_type": "execute_result"
    }
   ],
   "source": [
    "sum(x1[1:45] .== 1)"
   ]
  },
  {
   "cell_type": "code",
   "execution_count": 72,
   "metadata": {},
   "outputs": [
    {
     "data": {
      "text/plain": [
       "0"
      ]
     },
     "execution_count": 72,
     "metadata": {},
     "output_type": "execute_result"
    }
   ],
   "source": [
    "sum(x1[1:45] .== 2)"
   ]
  },
  {
   "cell_type": "code",
   "execution_count": 73,
   "metadata": {},
   "outputs": [
    {
     "data": {
      "text/plain": [
       "15"
      ]
     },
     "execution_count": 73,
     "metadata": {},
     "output_type": "execute_result"
    }
   ],
   "source": [
    "sum(x1[1:45] .== 3)"
   ]
  },
  {
   "cell_type": "markdown",
   "metadata": {},
   "source": [
    "嘘をつくことで得をした人数分だけ、損をした人がいることが確認できます"
   ]
  },
  {
   "cell_type": "markdown",
   "metadata": {},
   "source": [
    "## まとめ\n",
    "Boston mechanism がunstable な結果を生じうること、嘘の選好を表明することで得をしうる例を確認することができました  \n",
    "マッチング結果が stable である。strategic-proof であるという点において、DAアルゴリズムは Boston mechanism より優れたマッチング手法だといえそうです。実際に Boston でも、2005年にDAアルゴリズムを採用することにしたそうです\n"
   ]
  },
  {
   "cell_type": "markdown",
   "metadata": {},
   "source": [
    "### 参考文献\n",
    "A.Abdulkadiroglu, P.Pathak, A.Roth and T.Sonmez (2006). [\"Changing the Boston School Choice Mechanism:\n",
    "Strategy-proofness as Equal Access\"](http://people.duke.edu/~aa88/articles/ChangingBoston.pdf)"
   ]
  },
  {
   "cell_type": "code",
   "execution_count": null,
   "metadata": {
    "collapsed": true
   },
   "outputs": [],
   "source": []
  }
 ],
 "metadata": {
  "kernelspec": {
   "display_name": "Julia 0.6.0",
   "language": "julia",
   "name": "julia-0.6"
  },
  "language_info": {
   "file_extension": ".jl",
   "mimetype": "application/julia",
   "name": "julia",
   "version": "0.6.0"
  }
 },
 "nbformat": 4,
 "nbformat_minor": 2
}
